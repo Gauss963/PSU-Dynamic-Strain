{
 "cells": [
  {
   "cell_type": "code",
   "execution_count": 1,
   "metadata": {},
   "outputs": [],
   "source": [
    "import matplotlib as mpl\n",
    "import matplotlib.pyplot as plt\n",
    "import numpy as np\n",
    "\n",
    "import DataProcessor"
   ]
  },
  {
   "cell_type": "code",
   "execution_count": 2,
   "metadata": {},
   "outputs": [],
   "source": [
    "EXPERIMENT_SNS = ['p5972', 'p5973', 'p5974', 'p5975', 'p5979', 'p5993']"
   ]
  },
  {
   "cell_type": "code",
   "execution_count": null,
   "metadata": {},
   "outputs": [
    {
     "name": "stdout",
     "output_type": "stream",
     "text": [
      "p5972 0\n"
     ]
    },
    {
     "ename": "KeyError",
     "evalue": "'X_c'",
     "output_type": "error",
     "traceback": [
      "\u001b[0;31m---------------------------------------------------------------------------\u001b[0m",
      "\u001b[0;31mKeyError\u001b[0m                                  Traceback (most recent call last)",
      "Cell \u001b[0;32mIn[4], line 20\u001b[0m\n\u001b[1;32m     18\u001b[0m C_f \u001b[38;5;241m=\u001b[39m np\u001b[38;5;241m.\u001b[39mabs(event[\u001b[38;5;124m'\u001b[39m\u001b[38;5;124mrupture_speed\u001b[39m\u001b[38;5;124m'\u001b[39m])\n\u001b[1;32m     19\u001b[0m \u001b[38;5;66;03m# Gamma = np.abs(event['gamma'])\u001b[39;00m\n\u001b[0;32m---> 20\u001b[0m Xc \u001b[38;5;241m=\u001b[39m np\u001b[38;5;241m.\u001b[39mabs(\u001b[43mevent\u001b[49m\u001b[43m[\u001b[49m\u001b[38;5;124;43m'\u001b[39;49m\u001b[38;5;124;43mX_c\u001b[39;49m\u001b[38;5;124;43m'\u001b[39;49m\u001b[43m]\u001b[49m)\n\u001b[1;32m     24\u001b[0m \u001b[38;5;28mprint\u001b[39m(\u001b[38;5;124mf\u001b[39m\u001b[38;5;124m'\u001b[39m\u001b[38;5;124mCf: \u001b[39m\u001b[38;5;132;01m{\u001b[39;00mC_f\u001b[38;5;132;01m:\u001b[39;00m\u001b[38;5;124m.1f\u001b[39m\u001b[38;5;132;01m}\u001b[39;00m\u001b[38;5;124mm/s\u001b[39m\u001b[38;5;124m'\u001b[39m)\n\u001b[1;32m     25\u001b[0m \u001b[38;5;28mprint\u001b[39m(\u001b[38;5;124mf\u001b[39m\u001b[38;5;124m'\u001b[39m\u001b[38;5;124mGamma: \u001b[39m\u001b[38;5;132;01m{\u001b[39;00mGamma\u001b[38;5;132;01m:\u001b[39;00m\u001b[38;5;124m.1f\u001b[39m\u001b[38;5;132;01m}\u001b[39;00m\u001b[38;5;124mJ/m2\u001b[39m\u001b[38;5;124m'\u001b[39m)\n",
      "\u001b[0;31mKeyError\u001b[0m: 'X_c'"
     ]
    }
   ],
   "source": [
    "for experiment_SN in EXPERIMENT_SNS:\n",
    "    \n",
    "    for event_number in range(9):\n",
    "        \n",
    "        if experiment_SN != 'p5993':\n",
    "            run_number = 2\n",
    "        else:\n",
    "            run_number = 1\n",
    "        \n",
    "        print(experiment_SN, event_number)\n",
    "        \n",
    "        filename = f'../Data/{experiment_SN}e_updated.npz'\n",
    "        \n",
    "        data = np.load(filename, allow_pickle = True)\n",
    "        data = data[\"experiment\"][()]\n",
    "        event = data['runs'][run_number]['events'][event_number]\n",
    "\n",
    "        C_f = np.abs(event['rupture_speed'])\n",
    "        Gamma = np.abs(event['gamma'])\n",
    "        Xc = np.abs(event['X_c'])\n",
    "        \n",
    "        \n",
    "        \n",
    "        print(f'Cf: {C_f:.1f}m/s')\n",
    "        print(f'Gamma: {Gamma:.1f}J/m2')\n",
    "        print(f'Xc: {Xc:.1f}mm')"
   ]
  }
 ],
 "metadata": {
  "kernelspec": {
   "display_name": "Gauss-Multitaper",
   "language": "python",
   "name": "python3"
  },
  "language_info": {
   "codemirror_mode": {
    "name": "ipython",
    "version": 3
   },
   "file_extension": ".py",
   "mimetype": "text/x-python",
   "name": "python",
   "nbconvert_exporter": "python",
   "pygments_lexer": "ipython3",
   "version": "3.11.9"
  }
 },
 "nbformat": 4,
 "nbformat_minor": 2
}
