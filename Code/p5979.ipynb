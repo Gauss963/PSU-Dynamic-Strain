{
 "cells": [
  {
   "cell_type": "code",
   "execution_count": null,
   "metadata": {},
   "outputs": [],
   "source": [
    "import numpy as np\n",
    "import matplotlib.pyplot as plt\n",
    "\n",
    "import DataProcessor"
   ]
  },
  {
   "cell_type": "code",
   "execution_count": null,
   "metadata": {},
   "outputs": [],
   "source": [
    "Gamma = 0.21  # Fracture energy (J/m^2)\n",
    "E = 51e9      # Young's modulus (Pa)\n",
    "nu = 0.25     # Poisson's ratio\n",
    "C_f = 2404    # Rupture speed (m/s)\n",
    "C_s = 2760    # Shear wave speed (m/s)\n",
    "C_d = 4790    # Longitudinal wave speed (m/s)"
   ]
  },
  {
   "cell_type": "code",
   "execution_count": null,
   "metadata": {},
   "outputs": [],
   "source": [
    "filename = '../Data/p5979e.npz'"
   ]
  },
  {
   "cell_type": "code",
   "execution_count": null,
   "metadata": {},
   "outputs": [],
   "source": [
    "data = np.load(filename, allow_pickle = True)\n",
    "data = data[\"experiment\"][()]\n",
    "event = data['runs'][2]['events'][2]\n",
    "exy6 = event['strain']['original']['raw'][6]\n",
    "\n",
    "\n",
    "TIME_S = event['strain']['original']['time']\n",
    "\n",
    "fs = len(TIME_S) / (np.max(TIME_S) - np.min(TIME_S))\n",
    "print(f'Sampling rate: {fs:.1f}Hz')\n",
    "\n",
    "DISTANCE = TIME_S * C_f * 1000 # mm\n",
    "\n",
    "\n",
    "STRAIN = DataProcessor.voltage_to_strain(exy6)\n",
    "STRESS = DataProcessor.shear_strain_to_stress(E, nu, STRAIN)\n",
    "STRESS = STRESS - STRESS[0]\n",
    "STRESS_MPA = STRESS / 10**6\n",
    "STRESS_MPA *= -1"
   ]
  },
  {
   "cell_type": "code",
   "execution_count": null,
   "metadata": {},
   "outputs": [],
   "source": [
    "plt.figure(figsize = (12, 6))\n",
    "\n",
    "plt.plot(TIME_S, STRESS_MPA, label=r'$\\epsilon_{xy}$')\n",
    "plt.xlabel('Time [s]')\n",
    "plt.ylabel('Shear Stress Drop Value [MPa]')\n",
    "# plt.plot(event['strain']['original']['time'], eyy6 - eyy6[0], label=r'$\\epsilon_{yy}$')\n",
    "plt.savefig('../Plot/p5979_test1.pdf', dpi = 300)\n",
    "plt.show()"
   ]
  }
 ],
 "metadata": {
  "kernelspec": {
   "display_name": "Gauss-Multitaper",
   "language": "python",
   "name": "python3"
  },
  "language_info": {
   "name": "python",
   "version": "3.11.9"
  }
 },
 "nbformat": 4,
 "nbformat_minor": 2
}
