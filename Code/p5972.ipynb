{
 "cells": [
  {
   "cell_type": "code",
   "execution_count": 1,
   "metadata": {},
   "outputs": [],
   "source": [
    "import iminuit\n",
    "import matplotlib as mpl\n",
    "import matplotlib.pyplot as plt\n",
    "import numpy as np\n",
    "import scipy.signal\n",
    "\n",
    "import CohesiveCrack\n",
    "import DataProcessor"
   ]
  },
  {
   "cell_type": "code",
   "execution_count": 2,
   "metadata": {},
   "outputs": [],
   "source": [
    "Gamma = 0.21  # Fracture energy (J/m^2)\n",
    "E = 51e9      # Young's modulus (Pa)\n",
    "nu = 0.25     # Poisson's ratio\n",
    "C_f = 600     # Rupture speed in this pressure (m/s)\n",
    "C_s = 2760    # Shear wave speed (m/s)\n",
    "C_d = 4790    # Longitudinal wave speed (m/s)"
   ]
  },
  {
   "cell_type": "code",
   "execution_count": 3,
   "metadata": {},
   "outputs": [],
   "source": [
    "experiment_SN = 'p5972'\n",
    "normal_stress = 3 * 10**6 # Pa"
   ]
  },
  {
   "cell_type": "code",
   "execution_count": 4,
   "metadata": {},
   "outputs": [],
   "source": [
    "filename = f'../Data/{experiment_SN}e.npz'\n",
    "output_filename = f'../Data/{experiment_SN}e_updated.npz'"
   ]
  },
  {
   "cell_type": "code",
   "execution_count": 5,
   "metadata": {},
   "outputs": [],
   "source": [
    "event_number = 3"
   ]
  },
  {
   "cell_type": "code",
   "execution_count": null,
   "metadata": {},
   "outputs": [],
   "source": [
    "data = np.load(filename, allow_pickle = True)\n",
    "data = data[\"experiment\"][()]\n",
    "event = data['runs'][2]['events'][event_number]\n",
    "exy6 = event['strain']['original']['raw'][6]\n",
    "\n",
    "\n",
    "TIME_S = event['strain']['original']['time']\n",
    "C_f = np.abs(event['rupture_speed'])\n",
    "print(f'Cf: {C_f:.1f}m/s')\n",
    "\n",
    "fs = len(TIME_S) / (np.max(TIME_S) - np.min(TIME_S))\n",
    "print(f'Sampling rate: {fs:.1f}Hz')\n",
    "\n",
    "DISTANCE = TIME_S * C_f * 1000 # mm\n",
    "\n",
    "\n",
    "STRAIN = DataProcessor.voltage_to_strain(exy6)\n",
    "STRESS = DataProcessor.shear_strain_to_stress(E, nu, STRAIN)\n",
    "STRESS = STRESS - STRESS[0]\n",
    "STRESS_MPA = STRESS / 10**6\n",
    "STRESS_MPA *= -1"
   ]
  },
  {
   "cell_type": "code",
   "execution_count": null,
   "metadata": {},
   "outputs": [],
   "source": [
    "data = np.load(filename, allow_pickle = True)\n",
    "data = data[\"experiment\"][()]\n",
    "event = data['runs'][2]['events'][2]\n",
    "exy6 = event['strain']['original']['raw'][6]\n",
    "\n",
    "\n",
    "TIME_S = event['strain']['original']['time']\n",
    "C_f = np.abs(event['rupture_speed'])\n",
    "print(f'Cf: {C_f:.1f}m/s')\n",
    "\n",
    "fs = len(TIME_S) / (np.max(TIME_S) - np.min(TIME_S))\n",
    "print(f'Sampling rate: {fs:.1f}Hz')\n",
    "\n",
    "DISTANCE = TIME_S * C_f * 1000 # mm\n",
    "\n",
    "\n",
    "STRAIN = DataProcessor.voltage_to_strain(exy6)\n",
    "STRESS = DataProcessor.shear_strain_to_stress(E, nu, STRAIN)\n",
    "STRESS = STRESS - STRESS[0]\n",
    "STRESS_MPA = STRESS / 10**6\n",
    "STRESS_MPA *= -1"
   ]
  },
  {
   "cell_type": "code",
   "execution_count": null,
   "metadata": {},
   "outputs": [],
   "source": [
    "plt.figure(figsize = (12, 6))\n",
    "\n",
    "plt.plot(TIME_S, STRESS_MPA, label=r'$\\epsilon_{xy}$')\n",
    "plt.xlabel('Time [s]')\n",
    "plt.ylabel('Shear Stress Drop Value [MPa]')\n",
    "# plt.plot(event['strain']['original']['time'], eyy6 - eyy6[0], label=r'$\\epsilon_{yy}$')\n",
    "plt.tight_layout()\n",
    "plt.savefig(f'../Plot/{experiment_SN}.pdf', dpi = 300)\n",
    "plt.show()"
   ]
  },
  {
   "cell_type": "code",
   "execution_count": 9,
   "metadata": {},
   "outputs": [],
   "source": [
    "cutoff = 100\n",
    "FILTERED_STRESS_MPA = DataProcessor.highpass_filter(STRESS_MPA, cutoff, fs)"
   ]
  },
  {
   "cell_type": "code",
   "execution_count": null,
   "metadata": {},
   "outputs": [],
   "source": [
    "plt.figure(figsize = (12, 6))\n",
    "plt.plot(TIME_S, FILTERED_STRESS_MPA, label=r'$\\epsilon_{xy}$')\n",
    "plt.xlabel('Time [s]')\n",
    "plt.ylabel('Shear Stress Drop Value [MPa]')\n",
    "plt.tight_layout()\n",
    "plt.savefig(f'../Plot/Filtered-{experiment_SN}.pdf', dpi = 300)\n",
    "plt.show()\n",
    "plt.close()"
   ]
  },
  {
   "cell_type": "code",
   "execution_count": 11,
   "metadata": {},
   "outputs": [],
   "source": [
    "hspan = 2000\n",
    "\n",
    "\n",
    "# STA, LTA window length\n",
    "sta_window = 40   # STA window length\n",
    "lta_window = 300  # LTA window length\n",
    "\n",
    "# Calculate STA, LTA by convolution\n",
    "sta = np.convolve(FILTERED_STRESS_MPA**2, np.ones(sta_window)/sta_window, mode='valid')\n",
    "lta = np.convolve(FILTERED_STRESS_MPA**2, np.ones(lta_window)/lta_window, mode='valid')\n",
    "\n",
    "# Matching STA and LTA data length\n",
    "min_length = min(len(sta), len(lta))\n",
    "sta = sta[:min_length]\n",
    "lta = lta[:min_length]\n",
    "\n",
    "# Calculate LTA/STA ratio\n",
    "lta_sta_ratio = sta / lta\n",
    "\n",
    "# Find peak and peak's index\n",
    "max_ratio = np.max(lta_sta_ratio)\n",
    "max_index = np.argmax(lta_sta_ratio)"
   ]
  },
  {
   "cell_type": "code",
   "execution_count": null,
   "metadata": {},
   "outputs": [],
   "source": [
    "start_index = max_index - 120\n",
    "end_index   = max_index + 120\n",
    "\n",
    "CUT_STRESS_MPA = STRESS_MPA[start_index:end_index]\n",
    "LOCAL_PEAKS, _ = scipy.signal.find_peaks(CUT_STRESS_MPA, prominence = 0.02, distance = 30)\n",
    "GLOBAL_PEAKS = LOCAL_PEAKS + start_index\n",
    "\n",
    "GLOBAL_PEAK = GLOBAL_PEAKS[2]\n",
    "\n",
    "print(f'Peaks: {GLOBAL_PEAK}')\n",
    "print(f'Peak Values: {STRESS_MPA[GLOBAL_PEAK]}')"
   ]
  },
  {
   "cell_type": "code",
   "execution_count": 13,
   "metadata": {},
   "outputs": [],
   "source": [
    "DISTANCE = DISTANCE - DISTANCE[GLOBAL_PEAK]\n",
    "STRESS_MPA = STRESS_MPA - np.average(STRESS_MPA[max_index - hspan: max_index - hspan + 1000])"
   ]
  },
  {
   "cell_type": "code",
   "execution_count": null,
   "metadata": {},
   "outputs": [],
   "source": [
    "STRESS_MPA_FOR_FIT = STRESS_MPA[GLOBAL_PEAK - 180: GLOBAL_PEAK]     # fitting range\n",
    "STRESS_MPA_FOR_FIT = STRESS_MPA_FOR_FIT - STRESS_MPA_FOR_FIT[0]     # shift to zero\n",
    "DISTANCE_FOR_FIT = np.linspace(-180, 0, 180) / fs * C_f * 1000      # mm\n",
    "DISTANCE_FOR_DEMO = np.linspace(-180, 180, 180) / fs * C_f * 1000   # mm\n",
    "\n",
    "# ------------------------------------------------------------------------\n",
    "# (1) Define chi-square function\n",
    "# ------------------------------------------------------------------------\n",
    "def chi_square(A, B):\n",
    "    \n",
    "    model = DataProcessor.fitting_function(A, C_f, B, DISTANCE_FOR_FIT, 8e-3) / 10**6\n",
    "    chi2 = np.sum((STRESS_MPA_FOR_FIT - model)**2)\n",
    "    \n",
    "    return chi2\n",
    "\n",
    "# ------------------------------------------------------------------------\n",
    "# (2) Use iminuit to find chi-square min\n",
    "# ------------------------------------------------------------------------\n",
    "m = iminuit.Minuit(chi_square, A = 600, B = 200)\n",
    "\n",
    "# errordef = 1 corresponding to Least-Squares / Chi-square\n",
    "m.errordef = 1\n",
    "\n",
    "# Do fitting\n",
    "m.migrad()\n",
    "\n",
    "# Check fitting uncertainties\n",
    "m.hesse()\n",
    "\n",
    "# Get fitting results\n",
    "Xc_fit = m.values[\"A\"]\n",
    "Gamma_fit = m.values[\"B\"]\n",
    "\n",
    "print(f\"Xc_fit   : {Xc_fit:.3f}\")\n",
    "print(f\"Gamma_fit: {Gamma_fit:.3f}\")\n",
    "\n",
    "print(m.errors)\n",
    "\n",
    "# ------------------------------------------------------------------------\n",
    "# (3) Plotting：Compare fitting result with raw data\n",
    "# ------------------------------------------------------------------------\n",
    "# 0) Setup Figure\n",
    "plt.figure(figsize = (8, 6))\n",
    "\n",
    "# 1) raw data (from 0, to 180), 180 points\n",
    "plt.plot(DISTANCE_FOR_FIT, STRESS_MPA_FOR_FIT, \"o\", label=\"Original Data\")\n",
    "\n",
    "# 2) draw the fitting curve \"corresponding to DISTANCE_FOR_FIT\"\n",
    "STRESS_MPA_FIT_CURVE = DataProcessor.fitting_function(Xc_fit, C_f, Gamma_fit, DISTANCE_FOR_FIT, 8e-3) / 10**6\n",
    "plt.plot(DISTANCE_FOR_FIT, STRESS_MPA_FIT_CURVE, \"-\", label=\"Fit (on fitting range)\")\n",
    "\n",
    "# 3) expand the scope\n",
    "STRESS_MPA_FOR_DEMO = DataProcessor.fitting_function(Xc_fit, C_f, Gamma_fit, DISTANCE_FOR_DEMO, 8e-3) / 10**6\n",
    "plt.plot(DISTANCE_FOR_DEMO, STRESS_MPA_FOR_DEMO, \"--\", label=\"Fit (extended DEMO)\")\n",
    "\n",
    "# set x range\n",
    "plt.xlim(-2000, 2000)\n",
    "plt.xlabel(\"Distance (mm)\")\n",
    "plt.ylabel(\"Stress (MPa)\")\n",
    "plt.legend()\n",
    "plt.title(\"Fitting Demo with iMinuit\")\n",
    "plt.tight_layout()\n",
    "plt.savefig(f'../Plot/Fitting-{experiment_SN}.pdf', dpi = 300)\n",
    "plt.show()\n",
    "plt.close()"
   ]
  },
  {
   "cell_type": "code",
   "execution_count": 15,
   "metadata": {},
   "outputs": [],
   "source": [
    "theta = Gamma_fit / normal_stress / (Xc_fit * 10**3)"
   ]
  },
  {
   "cell_type": "code",
   "execution_count": null,
   "metadata": {},
   "outputs": [],
   "source": [
    "plt.rcParams.update({'mathtext.default': 'regular'})\n",
    "plt.figure(figsize = (12, 9))\n",
    "\n",
    "# Plot raw data (No filter)\n",
    "plt.subplot(3, 1, 1)\n",
    "plt.plot(DISTANCE, STRESS_MPA, label = 'Raw Data')\n",
    "plt.plot(DISTANCE, DataProcessor.fitting_function(Xc_fit, C_f, Gamma_fit, DISTANCE, 8e-3) / 10**6, label = f'$\\Gamma$ = {Gamma_fit:.0f}\\n$X_c$ = {Xc_fit:.0f}\\n$\\\\theta$ = {theta:.3g}')\n",
    "plt.plot(DISTANCE[GLOBAL_PEAK], STRESS_MPA[GLOBAL_PEAK], '.', label = 'Peak Point')\n",
    "plt.xlabel('Distance [mm]')\n",
    "plt.ylabel('Stress Drop [MPa]')\n",
    "plt.axvline(x = DISTANCE[GLOBAL_PEAK], color = 'yellow', linestyle = ':', label = 'Zero Point')\n",
    "plt.axvline(x = DISTANCE[max_index], color = 'red', linestyle = '--', label=f'Max Ratio: {max_ratio:.2f}')\n",
    "plt.axvline(x = DISTANCE[start_index], color = 'green', linestyle = '-.', label = f'Find Peak Left')\n",
    "plt.axvline(x = DISTANCE[end_index], color = 'green', linestyle = '-.', label = f'Find Peak Right')\n",
    "plt.xlim(DISTANCE[max_index - hspan], DISTANCE[max_index + hspan])\n",
    "plt.title(f'Raw Data of {experiment_SN}, event {event_number}')\n",
    "plt.legend(ncol = 2, loc = 'upper left')\n",
    "\n",
    "# Plot raw data (\\pm 2000mm)\n",
    "plt.subplot(3, 1, 2)\n",
    "plt.plot(DISTANCE, STRESS_MPA, label = 'Raw Data')\n",
    "plt.plot(DISTANCE, DataProcessor.fitting_function(Xc_fit, C_f, Gamma_fit, DISTANCE, 8e-3) / 10**6, label = f'$\\Gamma$ = {Gamma_fit:.0f}\\n$X_c$ = {Xc_fit:.0f}\\n$\\\\theta$ = {theta:.3g}')\n",
    "plt.plot(DISTANCE[GLOBAL_PEAK], STRESS_MPA[GLOBAL_PEAK], '.', label = 'Peak Point')\n",
    "plt.xlabel('Distance [mm]')\n",
    "plt.ylabel('Stress Drop [MPa]')\n",
    "plt.axvline(x = DISTANCE[GLOBAL_PEAK], color = 'yellow', linestyle = ':', label = 'Zero Point')\n",
    "plt.axvline(x = DISTANCE[max_index], color = 'red', linestyle = '--', label=f'Max Ratio: {max_ratio:.2f}')\n",
    "plt.axvline(x = DISTANCE[start_index], color = 'green', linestyle = '-.', label = f'Find Peak Left')\n",
    "plt.axvline(x = DISTANCE[end_index], color = 'green', linestyle = '-.', label = f'Find Peak Right')\n",
    "plt.xlim(-2000, 2000)\n",
    "plt.title(f'Raw Data of {experiment_SN}, event {event_number}, $\\pm$ 1000mm')\n",
    "plt.legend(ncol = 2, loc = 'upper left')\n",
    "\n",
    "# Plot LTA/STA ratio\n",
    "plt.subplot(3, 1, 3)\n",
    "plt.plot(lta_sta_ratio, label='LTA/STA Ratio')\n",
    "plt.axvline(x = max_index, color = 'red', linestyle = '--', label=f'Max Ratio: {max_ratio:.2f}')\n",
    "plt.xlim(max_index - hspan, max_index + hspan)\n",
    "plt.title('LTA/STA Ratio')\n",
    "plt.legend(loc = 'upper left')\n",
    "\n",
    "plt.tight_layout()\n",
    "plt.savefig(f'../Plot/STA-LTA-{experiment_SN}-{event_number}.pdf')\n",
    "plt.show()\n",
    "plt.close()"
   ]
  },
  {
   "cell_type": "code",
   "execution_count": 17,
   "metadata": {},
   "outputs": [],
   "source": [
    "event['gamma'] = Gamma_fit\n",
    "event['X_c'] = Xc_fit\n",
    "np.savez(output_filename, experiment=data)"
   ]
  }
 ],
 "metadata": {
  "kernelspec": {
   "display_name": "Gauss-Multitaper",
   "language": "python",
   "name": "python3"
  },
  "language_info": {
   "codemirror_mode": {
    "name": "ipython",
    "version": 3
   },
   "file_extension": ".py",
   "mimetype": "text/x-python",
   "name": "python",
   "nbconvert_exporter": "python",
   "pygments_lexer": "ipython3",
   "version": "3.11.9"
  }
 },
 "nbformat": 4,
 "nbformat_minor": 2
}
